{
 "cells": [
  {
   "cell_type": "code",
   "execution_count": 26,
   "metadata": {},
   "outputs": [
    {
     "data": {
      "text/plain": [
       "array([[   1,    1,    1,    1,    1],\n",
       "       [  16,    8,    4,    2,    1],\n",
       "       [  81,   27,    9,    3,    1],\n",
       "       [ 625,  125,   25,    5,    1],\n",
       "       [2401,  343,   49,    7,    1],\n",
       "       [6561,  729,   81,    9,    1]])"
      ]
     },
     "execution_count": 26,
     "metadata": {},
     "output_type": "execute_result"
    }
   ],
   "source": [
    "import numpy as np\n",
    ">>> x = np.array([1, 2, 3, 5, 7, 9])\n",
    ">>> N = 5\n",
    ">>> np.vander(x, N)\n"
   ]
  }
 ],
 "metadata": {
  "kernelspec": {
   "display_name": "Python 3",
   "language": "python",
   "name": "python3"
  },
  "language_info": {
   "codemirror_mode": {
    "name": "ipython",
    "version": 3
   },
   "file_extension": ".py",
   "mimetype": "text/x-python",
   "name": "python",
   "nbconvert_exporter": "python",
   "pygments_lexer": "ipython3",
   "version": "3.6.4"
  }
 },
 "nbformat": 4,
 "nbformat_minor": 2
}
